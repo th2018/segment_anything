{
 "cells": [
  {
   "cell_type": "code",
   "execution_count": null,
   "id": "aed92ac2",
   "metadata": {},
   "outputs": [],
   "source": []
  },
  {
   "cell_type": "code",
   "execution_count": 1,
   "id": "667ab13f",
   "metadata": {},
   "outputs": [],
   "source": [
    "import os\n",
    "import leafmap\n",
    "import pandas as pd\n",
    "from samgeo import SamGeo, show_image, download_file, overlay_images, tms_to_geotiff\n",
    "import datetime"
   ]
  },
  {
   "cell_type": "code",
   "execution_count": 2,
   "id": "97baabb6",
   "metadata": {},
   "outputs": [
    {
     "name": "stdout",
     "output_type": "stream",
     "text": [
      "      Name        y          x\n",
      "0  point_1  43.1259 -116.78568\n"
     ]
    }
   ],
   "source": [
    "p1_y=43.1259\n",
    "p1_x=-116.78568\n",
    "\n",
    "# Creating data for the DataFrame\n",
    "data = {'Name': ['point_1'],\n",
    "        'y': [  p1_y   ],\n",
    "        'x': [   p1_x ]}\n",
    "\n",
    "# Creating the DataFrame\n",
    "df = pd.DataFrame(data)\n",
    "\n",
    "# Displaying the DataFrame\n",
    "print(df)"
   ]
  },
  {
   "cell_type": "code",
   "execution_count": 3,
   "id": "489198b8",
   "metadata": {},
   "outputs": [
    {
     "data": {
      "application/vnd.jupyter.widget-view+json": {
       "model_id": "877ba10017e14948b357edba2fd5b300",
       "version_major": 2,
       "version_minor": 0
      },
      "text/plain": [
       "Map(center=[43.12573583350539, -116.78578147164701], controls=(ZoomControl(options=['position', 'zoom_in_text'…"
      ]
     },
     "execution_count": 3,
     "metadata": {},
     "output_type": "execute_result"
    }
   ],
   "source": [
    "m = leafmap.Map(center=[  43.1257358335053880, -116.7857814716470131 ], zoom=15, height=\"800px\")\n",
    "m.add_basemap(\"SATELLITE\")\n",
    "m.add_points_from_xy(df,x=\"x\" ,y= \"y\")\n",
    "m"
   ]
  },
  {
   "cell_type": "code",
   "execution_count": 4,
   "id": "5ed108ee",
   "metadata": {},
   "outputs": [
    {
     "data": {
      "text/plain": [
       "'jdt3_345_clip.tif'"
      ]
     },
     "execution_count": 4,
     "metadata": {},
     "output_type": "execute_result"
    }
   ],
   "source": [
    "image = r\"jdt3_345_clip.tif\" #r\"JDT3_425450.tif\" #r\"20190604_wbs_rgb_PLOT22.tif\"        #r\"JDT3_top_10.tif\" #'JDT3_082023.tif'\n",
    "image"
   ]
  },
  {
   "cell_type": "code",
   "execution_count": 5,
   "id": "c4923a83",
   "metadata": {},
   "outputs": [
    {
     "data": {
      "application/vnd.jupyter.widget-view+json": {
       "model_id": "877ba10017e14948b357edba2fd5b300",
       "version_major": 2,
       "version_minor": 0
      },
      "text/plain": [
       "Map(center=[43.12573583350539, -116.78578147164701], controls=(ZoomControl(options=['position', 'zoom_in_text'…"
      ]
     },
     "execution_count": 5,
     "metadata": {},
     "output_type": "execute_result"
    }
   ],
   "source": [
    "m.layers[-1].visible = False\n",
    "m.add_raster(image, layer_name=\"Image\")\n",
    "m.add_points_from_xy(df,x=\"x\" ,y= \"y\")\n",
    "m"
   ]
  },
  {
   "cell_type": "code",
   "execution_count": 6,
   "id": "79b575ea",
   "metadata": {},
   "outputs": [
    {
     "ename": "AttributeError",
     "evalue": "'SamGeo' object has no attribute 'predictor'",
     "output_type": "error",
     "traceback": [
      "\u001b[0;31m---------------------------------------------------------------------------\u001b[0m",
      "\u001b[0;31mAttributeError\u001b[0m                            Traceback (most recent call last)",
      "Cell \u001b[0;32mIn[6], line 5\u001b[0m\n\u001b[1;32m      1\u001b[0m sam \u001b[38;5;241m=\u001b[39m SamGeo(\n\u001b[1;32m      2\u001b[0m     model_type\u001b[38;5;241m=\u001b[39m\u001b[38;5;124m\"\u001b[39m\u001b[38;5;124mvit_h\u001b[39m\u001b[38;5;124m\"\u001b[39m,  \u001b[38;5;66;03m# can be vit_h, vit_b, vit_l, vit_tiny\u001b[39;00m\n\u001b[1;32m      3\u001b[0m     sam_kwargs\u001b[38;5;241m=\u001b[39m\u001b[38;5;28;01mNone\u001b[39;00m,\n\u001b[1;32m      4\u001b[0m )\n\u001b[0;32m----> 5\u001b[0m sam\u001b[38;5;241m.\u001b[39mset_image(image)\n",
      "File \u001b[0;32m~/anaconda3/lib/python3.11/site-packages/samgeo/samgeo.py:435\u001b[0m, in \u001b[0;36mSamGeo.set_image\u001b[0;34m(self, image, image_format)\u001b[0m\n\u001b[1;32m    432\u001b[0m \u001b[38;5;28;01melse\u001b[39;00m:\n\u001b[1;32m    433\u001b[0m     \u001b[38;5;28;01mraise\u001b[39;00m \u001b[38;5;167;01mValueError\u001b[39;00m(\u001b[38;5;124m\"\u001b[39m\u001b[38;5;124mInput image must be either a path or a numpy array.\u001b[39m\u001b[38;5;124m\"\u001b[39m)\n\u001b[0;32m--> 435\u001b[0m \u001b[38;5;28mself\u001b[39m\u001b[38;5;241m.\u001b[39mpredictor\u001b[38;5;241m.\u001b[39mset_image(image, image_format\u001b[38;5;241m=\u001b[39mimage_format)\n",
      "\u001b[0;31mAttributeError\u001b[0m: 'SamGeo' object has no attribute 'predictor'"
     ]
    }
   ],
   "source": [
    "sam = SamGeo(\n",
    "    model_type=\"vit_h\",  # can be vit_h, vit_b, vit_l, vit_tiny\n",
    "    sam_kwargs=None,\n",
    ")\n",
    "sam.set_image(image)"
   ]
  },
  {
   "cell_type": "code",
   "execution_count": null,
   "id": "1390148d",
   "metadata": {},
   "outputs": [],
   "source": [
    "m"
   ]
  },
  {
   "cell_type": "code",
   "execution_count": null,
   "id": "00501aa7",
   "metadata": {},
   "outputs": [],
   "source": [
    "point_coords = [[  p1_x,  p1_y ]]\n",
    "point_coords"
   ]
  },
  {
   "cell_type": "code",
   "execution_count": null,
   "id": "758e6e79",
   "metadata": {},
   "outputs": [],
   "source": [
    "point_coords = [[  p1_x,  p1_y ]]\n",
    "sam.predict(point_coords, point_labels=1, point_crs=\"EPSG:4326\", output=\"mask_p1.tif\")\n",
    "m.add_raster(\"mask1.tif\", layer_name=\"Mask1\", nodata=0, cmap=\"Blues\", opacity=1)\n",
    "m"
   ]
  },
  {
   "cell_type": "code",
   "execution_count": null,
   "id": "0a421a61",
   "metadata": {},
   "outputs": [],
   "source": [
    "m = sam.show_map()\n",
    "m"
   ]
  },
  {
   "cell_type": "code",
   "execution_count": null,
   "id": "1077afb3",
   "metadata": {},
   "outputs": [],
   "source": []
  }
 ],
 "metadata": {
  "kernelspec": {
   "display_name": "Python 3 (ipykernel)",
   "language": "python",
   "name": "python3"
  },
  "language_info": {
   "codemirror_mode": {
    "name": "ipython",
    "version": 3
   },
   "file_extension": ".py",
   "mimetype": "text/x-python",
   "name": "python",
   "nbconvert_exporter": "python",
   "pygments_lexer": "ipython3",
   "version": "3.11.4"
  }
 },
 "nbformat": 4,
 "nbformat_minor": 5
}
