{
 "cells": [
  {
   "cell_type": "markdown",
   "id": "eb2eda8e",
   "metadata": {},
   "source": [
    "https://samgeo.gishub.org/examples/input_prompts/"
   ]
  },
  {
   "cell_type": "code",
   "execution_count": 1,
   "id": "662ab28b",
   "metadata": {},
   "outputs": [],
   "source": [
    "import os\n",
    "import leafmap\n",
    "import pandas as pd\n",
    "from samgeo import SamGeo, show_image, download_file, overlay_images, tms_to_geotiff\n",
    "import datetime"
   ]
  },
  {
   "cell_type": "code",
   "execution_count": 2,
   "id": "0d9562af",
   "metadata": {},
   "outputs": [
    {
     "name": "stdout",
     "output_type": "stream",
     "text": [
      "      Name        y          x\n",
      "0  point_1  43.1259 -116.78568\n"
     ]
    }
   ],
   "source": [
    "p1_y=43.1259\n",
    "p1_x=-116.78568\n",
    "\n",
    "# Creating data for the DataFrame\n",
    "data = {'Name': ['point_1'],\n",
    "        'y': [  p1_y   ],\n",
    "        'x': [   p1_x ]}\n",
    "\n",
    "# Creating the DataFrame\n",
    "df = pd.DataFrame(data)\n",
    "\n",
    "# Displaying the DataFrame\n",
    "print(df)"
   ]
  },
  {
   "cell_type": "code",
   "execution_count": 3,
   "id": "022648d6",
   "metadata": {},
   "outputs": [
    {
     "data": {
      "application/vnd.jupyter.widget-view+json": {
       "model_id": "877ba10017e14948b357edba2fd5b300",
       "version_major": 2,
       "version_minor": 0
      },
      "text/plain": [
       "Map(center=[43.12573583350539, -116.78578147164701], controls=(ZoomControl(options=['position', 'zoom_in_text'…"
      ]
     },
     "execution_count": 3,
     "metadata": {},
     "output_type": "execute_result"
    }
   ],
   "source": [
    "m = leafmap.Map(center=[  43.1257358335053880, -116.7857814716470131 ], zoom=15, height=\"800px\")\n",
    "m.add_basemap(\"SATELLITE\")\n",
    "m.add_points_from_xy(df,x=\"x\" ,y= \"y\")\n",
    "m"
   ]
  },
  {
   "cell_type": "code",
   "execution_count": 4,
   "id": "5c614004",
   "metadata": {},
   "outputs": [
    {
     "data": {
      "text/plain": [
       "'jdt3_345_clip.tif'"
      ]
     },
     "execution_count": 4,
     "metadata": {},
     "output_type": "execute_result"
    }
   ],
   "source": [
    "image = r\"jdt3_345_clip.tif\" #r\"JDT3_425450.tif\" #r\"20190604_wbs_rgb_PLOT22.tif\"        #r\"JDT3_top_10.tif\" #'JDT3_082023.tif'\n",
    "image"
   ]
  },
  {
   "cell_type": "code",
   "execution_count": 5,
   "id": "ac43a63e",
   "metadata": {},
   "outputs": [
    {
     "data": {
      "application/vnd.jupyter.widget-view+json": {
       "model_id": "877ba10017e14948b357edba2fd5b300",
       "version_major": 2,
       "version_minor": 0
      },
      "text/plain": [
       "Map(center=[43.12573583350539, -116.78578147164701], controls=(ZoomControl(options=['position', 'zoom_in_text'…"
      ]
     },
     "execution_count": 5,
     "metadata": {},
     "output_type": "execute_result"
    }
   ],
   "source": [
    "m.layers[-1].visible = False\n",
    "m.add_raster(image, layer_name=\"Image\")\n",
    "m.add_points_from_xy(df,x=\"x\" ,y= \"y\")\n",
    "m"
   ]
  },
  {
   "cell_type": "code",
   "execution_count": 1,
   "id": "252bb4bb",
   "metadata": {},
   "outputs": [
    {
     "ename": "NameError",
     "evalue": "name 'SamGeo' is not defined",
     "output_type": "error",
     "traceback": [
      "\u001b[0;31m---------------------------------------------------------------------------\u001b[0m",
      "\u001b[0;31mNameError\u001b[0m                                 Traceback (most recent call last)",
      "Cell \u001b[0;32mIn[1], line 1\u001b[0m\n\u001b[0;32m----> 1\u001b[0m sam \u001b[38;5;241m=\u001b[39m SamGeo(\n\u001b[1;32m      2\u001b[0m     model_type\u001b[38;5;241m=\u001b[39m\u001b[38;5;124m\"\u001b[39m\u001b[38;5;124mvit_h\u001b[39m\u001b[38;5;124m\"\u001b[39m,  \u001b[38;5;66;03m# can be vit_h, vit_b, vit_l, vit_tiny\u001b[39;00m\n\u001b[1;32m      3\u001b[0m     sam_kwargs\u001b[38;5;241m=\u001b[39m\u001b[38;5;28;01mNone\u001b[39;00m,\n\u001b[1;32m      4\u001b[0m )\n",
      "\u001b[0;31mNameError\u001b[0m: name 'SamGeo' is not defined"
     ]
    }
   ],
   "source": [
    "sam = SamGeo(\n",
    "    model_type=\"vit_h\",  # can be vit_h, vit_b, vit_l, vit_tiny\n",
    "    sam_kwargs=None,\n",
    ")\n",
    "#sam.set_image(image)"
   ]
  },
  {
   "cell_type": "code",
   "execution_count": null,
   "id": "8d3a5d68",
   "metadata": {},
   "outputs": [],
   "source": [
    "m"
   ]
  },
  {
   "cell_type": "code",
   "execution_count": null,
   "id": "5d055132",
   "metadata": {},
   "outputs": [],
   "source": [
    "point_coords = [[  p1_x,  p1_y ]]\n",
    "point_coords"
   ]
  },
  {
   "cell_type": "code",
   "execution_count": null,
   "id": "9b905201",
   "metadata": {},
   "outputs": [],
   "source": [
    "point_coords = [[  p1_x,  p1_y ]]\n",
    "sam.predict(point_coords, point_labels=1, point_crs=\"EPSG:4326\", output=\"mask_p1.tif\")\n",
    "m.add_raster(\"mask1.tif\", layer_name=\"Mask1\", nodata=0, cmap=\"Blues\", opacity=1)\n",
    "m"
   ]
  },
  {
   "cell_type": "code",
   "execution_count": null,
   "id": "1c9844d1",
   "metadata": {},
   "outputs": [],
   "source": [
    "m = sam.show_map()\n",
    "m"
   ]
  },
  {
   "cell_type": "code",
   "execution_count": null,
   "id": "a89d4bb0",
   "metadata": {},
   "outputs": [],
   "source": []
  }
 ],
 "metadata": {
  "kernelspec": {
   "display_name": "Python 3 (ipykernel)",
   "language": "python",
   "name": "python3"
  },
  "language_info": {
   "codemirror_mode": {
    "name": "ipython",
    "version": 3
   },
   "file_extension": ".py",
   "mimetype": "text/x-python",
   "name": "python",
   "nbconvert_exporter": "python",
   "pygments_lexer": "ipython3",
   "version": "3.11.4"
  }
 },
 "nbformat": 4,
 "nbformat_minor": 5
}
