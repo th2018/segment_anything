{
 "cells": [
  {
   "cell_type": "code",
   "execution_count": 1,
   "id": "ecdc6222",
   "metadata": {},
   "outputs": [
    {
     "ename": "ModuleNotFoundError",
     "evalue": "No module named 'samgeo'",
     "output_type": "error",
     "traceback": [
      "\u001b[0;31m---------------------------------------------------------------------------\u001b[0m",
      "\u001b[0;31mModuleNotFoundError\u001b[0m                       Traceback (most recent call last)",
      "Cell \u001b[0;32mIn[1], line 3\u001b[0m\n\u001b[1;32m      1\u001b[0m \u001b[38;5;28;01mimport\u001b[39;00m \u001b[38;5;21;01mos\u001b[39;00m\n\u001b[1;32m      2\u001b[0m \u001b[38;5;28;01mimport\u001b[39;00m \u001b[38;5;21;01mleafmap\u001b[39;00m\n\u001b[0;32m----> 3\u001b[0m \u001b[38;5;28;01mfrom\u001b[39;00m \u001b[38;5;21;01msamgeo\u001b[39;00m \u001b[38;5;28;01mimport\u001b[39;00m SamGeo, show_image, download_file, overlay_images, tms_to_geotiff\n",
      "\u001b[0;31mModuleNotFoundError\u001b[0m: No module named 'samgeo'"
     ]
    }
   ],
   "source": [
    "import os\n",
    "import leafmap\n",
    "from samgeo import SamGeo, show_image, download_file, overlay_images, tms_to_geotiff"
   ]
  },
  {
   "cell_type": "markdown",
   "id": "c552a827",
   "metadata": {},
   "source": [
    "Creating interactive web maps."
   ]
  },
  {
   "cell_type": "code",
   "execution_count": 6,
   "id": "7240cb2d",
   "metadata": {},
   "outputs": [
    {
     "data": {
      "application/vnd.jupyter.widget-view+json": {
       "model_id": "6a206c4fcb7d45ae909d14d5223d3bd2",
       "version_major": 2,
       "version_minor": 0
      },
      "text/plain": [
       "Map(center=[43.12244960373391, -116.78568227384632], controls=(ZoomControl(options=['position', 'zoom_in_text'…"
      ]
     },
     "execution_count": 6,
     "metadata": {},
     "output_type": "execute_result"
    }
   ],
   "source": [
    "m = leafmap.Map(center=[ 43.12244960373391, -116.78568227384632], zoom=15, height=\"800px\")\n",
    "m.add_basemap(\"SATELLITE\")\n",
    "m"
   ]
  },
  {
   "cell_type": "code",
   "execution_count": 7,
   "id": "c0f9c128",
   "metadata": {},
   "outputs": [
    {
     "name": "stdout",
     "output_type": "stream",
     "text": [
      "[-116.78647620691443, 43.11930149344062, -116.7858539345373, 43.12927778333569]\n"
     ]
    }
   ],
   "source": [
    "north= 43.12927778333569\n",
    "south= 43.11930149344062\n",
    "\n",
    "east = -116.7858539345373\n",
    "west = -116.78647620691443\n",
    "\n",
    "if m.user_roi_bounds() is not None:\n",
    "    bbox = m.user_roi_bounds()\n",
    "else:\n",
    "    bbox = [ west ,  south,  east , north ]\n",
    "\n",
    "print(bbox)"
   ]
  },
  {
   "cell_type": "code",
   "execution_count": null,
   "id": "8ef13427",
   "metadata": {},
   "outputs": [],
   "source": []
  }
 ],
 "metadata": {
  "kernelspec": {
   "display_name": "Python 3 (ipykernel)",
   "language": "python",
   "name": "python3"
  },
  "language_info": {
   "codemirror_mode": {
    "name": "ipython",
    "version": 3
   },
   "file_extension": ".py",
   "mimetype": "text/x-python",
   "name": "python",
   "nbconvert_exporter": "python",
   "pygments_lexer": "ipython3",
   "version": "3.11.4"
  }
 },
 "nbformat": 4,
 "nbformat_minor": 5
}
