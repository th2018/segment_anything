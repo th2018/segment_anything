{
 "cells": [
  {
   "cell_type": "code",
   "execution_count": 1,
   "id": "ecdc6222",
   "metadata": {},
   "outputs": [
    {
     "name": "stdout",
     "output_type": "stream",
     "text": [
      "/Users/taohuang/Downloads\n",
      "['Ch8_F2_PyTorch.png', 'RCMAP_2019_LOS_fishnet_label', 'pub3.csv', '5-steps-getting-started-pytorch-main', 'Deep_Learning-Based_Multinational_Banknote_Type_an.pdf', 'download-6.zip', 'googlechrome.dmg', 'Landscape_Ecology_UAS_draft_2023_submission_format.docx', 'IMG_0404.JPG', 'Project_1b-main', 'IMG_0410.JPG', 'Untitled10.ipynb', 'stream_T_models-main', 'IMG_0438.jpg', 'UNH.jpg', '.Rhistory', 'PRISM_USGS_13341000.csv', 'Untitled7.ipynb', 'pasta_ID.ipynb', 'multi-output-regression-models-with-python.ipynb', 'IMG_5072.MOV', 'segmentation_pytorch.ipynb', 'hotel.pdf', '2024_ID_WQ-main-3', 'prism_df_summer_12413370.rds', 'USGS13311450-main-2', 'Trivia Dump .docx', '2024_ID_WQ-main-4', 'USGS13311450-main-5', 'materialsfortoday', 'IMG_0439.JPG', 'USGS_13337099_data_model-main', 'IMG_0411.JPG', '00003e.png', 'pd_plot_slice.Rmd', '1_convolution-2.ipynb', 'download-4', 'Create training datasets.jpg', 'USGS_13337099_data_model-main-2', 'IMG_6869.JPG', 'pub2.csv', 'IMG_0439 2.JPG', 'What are the different drivers of stream temperature in high versus low elevation streams?.jpg', 'download-3', 'SESL3BOHDU2A9PHXD_Fire_erosion_Johnston_Draw_talk_202404.pptx', 'EcoStats_Tao.pptx', 'flightgcpsofinterest', 'Huang_UAS_20240329.docx', 'Untitled document-2.docx', 'Screenshot 2024-02-08 at 10.33.00\\u202fAM.png', 'Screenshot 2024-02-06 at 10.33.49\\u202fAM.png', 'neon_aop_download_functions.py', 'automatic_mask_generator_example.ipynb', 'summer_ST_Q_boxplot.ipynb', 'download-5.zip', 'BUFFER_20.dbf', 'hist.png', 'LANDFIRE2020.png', '2024GeoWeek.ics', 'ReynoldsCreek_Soil_Samples_JD_Sheep_Nancy - Sheet1.csv', 'download-2', 'orthomosaic_20230816.tif.aux.xml', 'Untitled12.ipynb', 'JD_WEPP.png', 'DecisionTreeRegressor_bare.ipynb', '000024.png', 'Names and contact information for three references .pdf', 'USGS_13337099_data_model-main-3', 'download-5', 'IMG_0412.JPG', 'Untitled5.ipynb', 'S0034425720302261.txt', 'Engineering-Research-Poster.pptx', 'download-4.zip', 'AGU_stream_Tao.pptx', 'Estimation_of_Fractional_Plant_Lifeform_Cover_for_the_Conterminous_United_States_Using_Landsat_Imagery_and_Airborne_LiDAR.pdf', '2024_ID_WQ-main-5', 'USGS13311450-main-4', 'infiltration.png', '2024_ID_WQ-main-2', 'USGS13311450-main-3', 'micasense_conda_env.ipynb', 'nonrefhist.png', 'IMG_4597.MOV', '1-s2.0-S0301479720306368-mmc2.docx', 'Untitled1.ipynb', 'buffer_20_JDT4_S_low.cpg', 'rock_creek.png', 'feature_non.png', 'buffer_20_JDT4_S_low.shp', 'Figures_Landscape_Ecology_ms2023-10.jpg', 'Contract_G NIW_3 options_v6.pdf', 'Untitled16.ipynb', 'Project_1b-main-2', 'FinalDataProduct', '.DS_Store', '41597_2024_2921_MOESM1_ESM.docx', 'IMG_0600.JPG', 'PY_DL_MED-main-7', 'GCPs_buffer.shp', 'Screenshot 2024-06-04 at 11.37.59\\u202fAM.png', 'metadata.py', 'HFLUX_3.1', 'ChaiElaina.pdf', 'IMG_0403.JPG', 'ornldaac_ds1532.kmz', 'BatchNorm.ipynb', 'sam_vit_h_4b8939.pth', 'GCPs_buffer.cpg', 'USGS_dataretrieval_WaterUse_Examples.ipynb', 'post_AGU23_stream_T-main-2', 'JD erosion model.pptx', 'Estimation_of_Nitrogen_Nutrition_Status_in_Winter_.pdf', 'Landscape_Ecology_UAS_draft_2023_submission_format-4.docx', 'JDT3_4_multispectral.qmd', '20190605_WBS-main-3', 'PY_DL_MED-main-9', 'Unknown-2.png', 'list_of_USGS_stations-main', 'ThermalMetrics_NWIS.csv', 'Screenshot 2024-04-26 at 4.08.38\\u202fPM.png', '1_STEPS FOR NIW CASE PREPARATION.pdf', 'usgs_13296000_data_model-main', 'PAYMENT_OPTIONS_Rev.pdf', 'IMG_4547.MOV', 'buffer_20_JDT4_S_low.qmd', 'NorWeST_ObservedStreamTempDailySummaries_MidSnake_AllDays.xlsx', '1-s2.0-S0048969721029880-mmc1.docx', 'AWRA Speed Networking.pdf', 'AGU poster feedback.docx', '6_Proposed Endeavor Guide and Clarifications.pdf', 'buffer_20_JDT4_S_low.shx', 'Fig3_0.png', 'stride.ipynb', 'BUFFER_THERMAL.png', 'download-3.zip', 'Tao_AGU_stream.pdf', 'Fig3.png', 'IMG_4625.MOV', 'gps', 'RMSE.png', 'LOS_2019_point_frame-main', 'model2.ipynb', 'IDAHO.png', 'perm.png', 'skills_tao.csv', 'Fig6.tiff', 'Copy of 2024_WQW_Tao_20240207.jpg', 'IMG_7637.JPG', 'ts_slope.png', 'Landscape_Ecology_UAS_draft_20240319_pjo-0327.docx', 'Template5_32x40_1.pptx', 'Fig2.jpg', 'GCPs_buffer.shx', 'RAP_annual_2021.AFG.tif', 'Fig2.png', 'PY_DL_MED-main-8', 'download-2.zip', 'Enhao', '20190605_WBS-main-2', '.localized', 'sms', 'Untitled document.pdf', 'post_AGU23_stream_T-main-3', 'LOS_20220630_training', 'Untitled3.ipynb', 'cifar-10-batches-py', 'Sat Mar 23 2024 10_52_38 AM.webm', 'corded-main', 'Screenshot 2024-04-14 at 10.48.09\\u202fAM.png', 'Revised-budget-template.xlsx', 'Untitled14.ipynb', 'PY_DL_MED-main-6', 'LOS_2019_pf_sms', 'AGU MHPI presentations 2023.docx', 'Figures_Landscape_Ecology_ms2023-6.jpg', 'Landscape_Ecology_UAS_draft_202402.docx', 's10980-024-01871-7.pdf', 'val_plot.png', 'images', 'climateScenarios_Results.png', 'Untitled.ipynb', 'Landscape_Ecology_2024-main-2', 'Untitled presentation-13.jpg', 'Tammina_Transfer_learning_using_VGG-16_with_Deep_Convoluti.pdf', 'IMG_0586.mov', 'py_df-main', 'Dissertation_Tao.docx', 'Guest-331172153-UAG Loading and Performance Quiz.pdf', 'Screenshot 2024-05-02 at 6.26.29\\u202fPM.png', 'CRHMdoc-1.3.4.pdf', 'ID_WQ_2024.pptx', 'Obsidian-1.5.12-universal.dmg', 'ACC.png', 'Landscape_Ecology_2024-main-5', 'Project 1 for ECE 662-2.docx', 'Landscape_Ecology_UAS_draft_2023_submission_format-3.docx', 'Risley_Effects of upstream dams versus groundwater pumping on stream temperature under.pdf', '[Untitled]-6.pdf', 'Untitled presentation-2.jpg', 'Screenshot 2024-04-29 at 11.41.55\\u202fAM.png', 'IMG_7491.JPG', 'rap_2022_LOS_1.tif', 'landslide_segmentation_pytorch_tutorial.ipynb', 'IMG_7485.JPG', '000079.png', 'PPTX-Genigraphics-Poster-Template-Graphical-44x44.pptx', 'newplot.png', 'perm_nonref.png', 'Carvajal-Ramírez_Evaluation of Fire Severity Indices Based on Pre- and Post-Fire Multispectral Imagery Sensed from UAV.pdf', 'Guest-331657444-RP-Radio Communications Quiz.pdf', 'usgs_13296000_data_model-main-2', 'read_excel.ipynb', 'Sagebrush Climate Workshop Speaker Bios_final.pdf', 'StreamNetworkan', 'PyTorch_MNIST_Network2_3layer_Sigmoid_CrossEntropy_3.ipynb', 'Ch8_F4_PyTorch.png', 'Filling_out_the_Client_Record.pdf', '1-s2.0-S0378112716307617-mmc1.docx', 'Coats_xamining Columbian Grouse Nesting Brood Rearing Habitat Using Machine Learning Land Use Land Cover Trends in Southeastern Idaho.pdf', 'BookScanCenter_1.png', 'HCRI_poster_UAS_2024.pptx.pdf', 'erosion_depth.ipynb', 'IMG_7487 2.PNG', 'usgs_gauge.jpeg', 'Untitled presentation-3.jpg', 'usgs_13296000_data_model-main-5', 'Untitled document.docx', 'Untitled4.ipynb', 'Figures_Landscape_Ecology_ms2023.pptx', 'Untitled presentation-12.jpg', 'training_shps', 'Big_Springs_Creek-main', 'JDT3_082023.tif', 'Untitled13.ipynb', '4_Summary of Contributions Q _A 1 25 18.pdf', 'Trok_et_al_JGR2023-v1-main', 'map.png', 'Figures_Landscape_Ecology_ms2023-7.jpg', 'TOPO.png', 'S0048969716319593.bib', '2024_ID_WQ-main', 'Figures_Landscape_Ecology_ms2023-5.jpg', 'Untitled6.ipynb', 'AGU_better_poster_UAS.pptx', 'st.png', 'IMG_0464 2.JPG', 'usgs_13310850-main', 'WBS1_LOS1', 'Untitled presentation-10.jpg', 'GCPs_buffer.dbf', 'Untitled11.ipynb', '[Untitled]-5.pdf', 'Wrokshop2023', 'USGS_dataretrieval_DailyValues_Examples.ipynb', 'Tao_AGU_stream_thermal_12032023.pptx.pdf', 'Performance Evaluation of Networks in Classification of Biomedical Images_2-2.docx', 'BookScanCenter_3.png', 'IMG_0464.JPG', 'Rey_shifts in groundwater discharge to streams identified with.pdf', 'Landscape_Ecology_2024-main-4', 'Unknown.png', 'CHM.tar', '212403_Huang.pdf', 'Landscape_Ecology_2024-main-3', 'RAP_2019.tif', 'SSN2.pdf', 'RegistrationConfirmation_Tao Huang.pdf', 'Tao Huang-336901321-FAA Practice Exam (UAG) (post-April 6 2021).pdf', 'IMG_7487.PNG', 'SSN2.Rmd', 'buffer_20_JDT4_S_low.dbf', 'Path_analysis.jpg', 'IMG_0459.JPG', 'feature_nonref.png', 'IMG_4899.MOV', 'IMG_0465.JPG', 'BookScanCenter_2.png', 'snotelr_usgs_13310800.Rmd', '[Untitled]-4.pdf', 'usgs_13296000_data_model-main-4', 'Untitled presentation-11.jpg', 'torch_Dataloader.ipynb', 'Find Your Trip: Delta Air Lines.pdf', '20240529.xlsx', 'Tao_classes.pdf', 'usgs_13296000_data_model-main-3', 'Figures_Landscape_Ecology_ms2023-4.jpg', 'subset_tasmax.rcp85.CNRM-CM5.CRCM5-OUR.day.NAM-22i.raw.nc', 'Client Packet_Read First', 'LG_StreamHrlySummary_2021.csv', 'annotations.tar.gz', '396-617-1-SM.pdf', 'model3.ipynb', '2024_ID_WQ-main-11', 'RAP_annual_2022AFG.tif', 'USGS_13311000-main-2', 'IMG_8321.MOV', 'Untitled presentation-15.jpg', 'meeting-95792688013.ics', 'IMG_8175.JPG', '2024_ID_WQ-main-16', 'Forfinski-Sarkozi-12284.pptx', 'code', 'PRISM_USGS_13311450.csv', 'passport.pdf', 'MSAVI2.docx', 'LOS_2019_point_frame-main-7', 'Untitled presentation-4.jpg', 'USGS_13311000-main', 'IMG_0461.jpg', '2024_ID_WQ-main-18', 'AGU_DL_note.docx', 'IMG_7656.JPG', 'IMG_4335.MOV', 'Resume.pdf', 'table-data.csv', 'rock.png', 'Untitled15.ipynb', 'USGS13311450-main', 'IMG_2745.MOV', 'rap_2022_LOSCopy2.tif', 'IMG_0460.JPG', 'IMG_6906.MOV', 'Untitled presentation-5.jpg', 'Screenshot 2024-04-27 at 8.48.01\\u202fPM.png', 'Untitled2.ipynb', 'iNaturalist_Birds_PyTorch.ipynb', 'export-data.csv', 'Performance Evaluation of Networks in Classification of Biomedical Images_2-3.docx', '20220615_WBS-main-5', 'BUFFER_20.cpg', 'Screenshot 2024-01-18 at 5.35.26\\u202fPM.png', 'Untitled presentation-14.jpg', 'Academic Hub | Geo Week.pdf', 'USGS_13266000.csv', 'stream_T_models-main-2', 'BFI.Rmd', 'T. Huang United 11.9.23.pdf', 'IMG_3275.MOV', 'RStudio-2024.04.1-748.dmg', '20220615_WBS-main-2', 'RAP_annual_2022.AFG.tif', 'Sagebrush 2024 Team Activity FINAL.pdf', 'BUFFER_20.shp', '2024_WQW_Tao.pptx', 'mxnet.ipynb', 'Figures_Landscape_Ecology_ms2023-3.jpg', 'pearly-parka.gpkg', 'IMG_1845.MOV', 'LOS_2019_point_frame-main-6', 'pearly-parka_prep_details', 'usgs13176400-main', 'Rangeland Analysis Platform_2023.pdf', 'LOS_2022-main', 'Screenshot 2024-01-25 at 6.02.58\\u202fPM.png', '[Untitled]-3.pdf', 'WBS_RAP_2022_zonal.Rmd', 'rap_2022_LOS.tif', 'IMG_4875.MOV', 'Untitled presentation-7.jpg', '2024_ID_WQ-main-17', 'rwrfhydro.Rmd', 'USAJOBS How-To Series.pdf', 'IMG_0462.JPG', 'Untitled17.ipynb', 'EPA-HQ-OW-2015-0499-0029_content.pdf', 'NorWeST_ObservedTempPoints_MiddleSnake', 'tmax.rcp85.GFDL-ESM2M.WRF.mon.NAM-44i.mbcn-Daymet.nc', 'TernausNet.ipynb', 'cb_2018_us_state_500k', 'LOS_2019_point_frame-main-8', '2024_ID_WQ-main-10', '20220615_WBS-main-3', 'Model_A.ipynb', 'climateScenarios_Results-2.png', 'Template5_36x48_1-2.pptx', 'Project2_final_models.docx', 'Guest-331662774-RP-Airport Operations Quiz #1.pdf', 'cjfas-2022-0189suppla.docx', 'rwrfhydro.pdf', 'IMG_0463.JPG', 'los22.png', '20220615_WBS-main-4', 'Untitled presentation-6.jpg', 'AGU_poster_UAS_20231203.pptx', 'segmentation_pytorch.pdf', 'remotesensing-2265166-supplementary.pdf', '[Untitled]-2.pdf', 'Landscape_Ecology_UAS_draft_2023_submission_format-2.docx', 'Guest-331662986-RP-Airport Operations Quiz #2.pdf', 'cb_2018_us_region_500k', 'student+performance', 'LTVR_RTK_Corrected_PF4_Corners', 'Rangeland Analysis Platform.pdf', 'BUFFER_20.shx', 'Round trip to San Francisco | Google Flights.pdf', 'model.Rmd', 'Fire_erosion_Johnston_Draw_talk_202404.pptx', 'Figures_Landscape_Ecology_ms2023-2.jpg', '2024_ID_WQ-main-7', 'USGS13311450-main-6', '7z2405-x64.exe', 'JD_WS.png', 'Cover letter.pdf', '5-steps-getting-started-pytorch.ipynb', 'Dataset_for_Soil_Properties_Determined_at_the_RCEW_03072019', 'Hayter_Evaluating   Geomorphic Change on Paired Mulched and Unmulched Catchments Using Repeat Drone Surveys.pdf', 'qgis_read_kmz-main', 'whatNWISsites.Rmd', 'GAGES_II_Geospa-2', 'fire_talk_2_default.mp4', 'prism_df_summer_13092747.csv', 'virt', 'pd_read_csv.ipynb', '2024_ID_WQ-main-9', 'invoice.pdf', 'New Folder With Items', 'PRISM_USGS_13317660 - Sheet2.csv', 'fishnett_pixels', 'predictor_example.ipynb', 'MSAVI2.Rmd', 'Landscape_Ecology_UAS_draft_202402-2.docx', 'CASC_StatementofInterest_SOI_Template_V3.docx', 'water-2022-code', 'Semantic segmentation.jpg', 'cjfas-2022-0189supplb.docx', 'annotations', 'Johnston_Draw_lidar_gcp', 'predictor_example.pdf', 'CHM', 'Docker.dmg', 'ts_clear.png', 'RHEM_Guide_USDA_ARS_NRCS_Handbook_647.pdf', 'Python_Generator.ipynb', '1_convolution-2_TAO.ipynb', 'sn-article-template', 'norse_torch_utils_plot.ipynb', 'gps.tar', 'JD_tree_cover.png', 'remotesensing-14-05143-v2.pdf', 'OpenTopography summer 2024 data science internship opportunity | OpenTopography.pdf', '2_NIW_Summary of Contributions_Template_06.12.2023.pdf', 'download-6', 'Project2_final_models-2.docx', 'usgs_payette_13251000-main', 'IDP.docx', '2024_ID_WQ-main-8', 'VAL.png', 'ResearchPosterTemplate-PinUp.pptx', 'Untitled19.ipynb', 'Supplementary information.docx', 'Untitled presentation-8.jpg', 'Letter of support template.docx', 'descent_PLOT.ipynb', '2024_ID_WQ-main-6', 'quantile_regression.ipynb', 'Guest-336210934-RP-Maintenance & Inspections Quiz.pdf', 'NCALM 2023 flight', 'LongTermMeanAnnualWaterTemperatureForStreamReachesInPacificNorthwestUnitedStates.jpg', '10980_2024_1798_Fig1_HTML.png.webp', 'Project 1 for ECE 662.docx', 'Landscape_Ecology_UAS_draft_2023-3.docx', 'GAGES_II_Geospa', 'Raei_mmc1.docx', 'Resume_NIW.pdf', 'rcew_soil.ipynb', 'Pillars-Logo-02-300x300.png', 'Untitled presentation-9.jpg', 'Wu_Advances in quantitative remote sensing product Overview current status.pdf', 'IMG_4066.MOV', 'table-data-2.csv', 'tao.jpg', 'JDT3_4_multispectral.kml', 'Create training datasets-2.jpg', 'download', 'Tarboton_HydroShare Science technology advances of a comprehensive data model publication environment for the water science domain Tarboton.pdf', 'Agenda_JD Fire Workgroup_20240119.docx', 'Figures_Landscape_Ecology_ms2023-9.jpg', 'nonref.png', 'AGU23_streamT-main-7', 'PY_DL_MED-main-3', 'predictor_example.html', 'LOS_2022-main-2', 'How to use WENZO Case Management Platform.pdf', 'Resume_Tao.pdf', 'Landscape_Ecology_UAS_draft_20240301-nfg.docx', 'orthomosaic_20230816.tif', 'Untitled.R', 'LOS_2022-main-5', 'PY_DL_MED-main-4', 'RCEW_Visitor_Form_tao.pdf', 'PRISM_USGS_13266000.csv', 'NLCD.png', 'buffer_20_JDT4_S_low.prj', 'rcmap_panel.Rmd', 'rcout.shp', 'data_process_model_development_evaluation.jpg', '1002009.pdf', 'Overall workflow.jpg', 'BUFFER.png', 'Williams_2021_Assessing runoff and erosion on woodland‐encroached sagebrush steppe using the Rangeland.pdf', 'Landscape_Ecology_UAS_draft_2023-2.docx', 'IMG_0454.jpg', 'Ensemble method-First chapter dessertation.docx', 'norwest_mann.csv', 'snotelr-main', 'README_EcoHydro22.txt', 'LaTeX_Bard-main', 'Untitled20.ipynb', 'GCPs_buffer.prj', 'scatter_non.png', 'rasters_ID15Lohse', '000063.png', 'unnamed.png', 'IMG_0365.MOV', 'Guest-331891918-RP-Airspace Quiz #1.pdf', '10.1002-rse2.144Figure21440002.pptx', 'travel-auth.boisestate_000107624.pdf', 'Dry_creek_BSG_data_model-main', 'Developing herb% regression models.jpg', '03_pytorch_computer_vision.ipynb', 'IMG_0985.MOV', 'Unlimited FAA Practice Exam (Initial) - Updated for April 2021_20240502-1.pdf', 'IMG_1325.MOV', 'Jaeger_Probability of Streamflow Permanence Model PROSPER spatially continuous model of annual streamflow permanence throughout the Pacific Northwest.pdf', 'Figures_Landscape_Ecology_ms2023-8.jpg', 'Project2_final_models-3.docx', 'ThermalMetricsyearly_NWIS.csv', 'data_prep_202312.Rmd', 'model3_test.ipynb', 'pub.csv', 'log0809qb.tps', 'James_and_Ann_Redfield_Graduate_Fellowship_Application_2020_Fillable_Huang.pdf', 'skill_heatmap.csv', 'Resume-2.pdf', '20240529.csv', 'Untitled8.ipynb', 'JD_GCPs_202308.kmz', 'PRISM_USGS_13341050 - Sheet2.csv', 'neon_sites.Rmd', 'dem_20230816.tif', 'PY_DL_MED-main-5', 'taohuang@borah-login.boisestate.edu', 'LTVR.kmz', 'corrnonref.png', 'LOS_2022-main-4', 'Untitled22.ipynb', 'Zoom.pkg', 'JD Fire AOIs.kmz', 'LOS_2022-main-3', 'PY_DL_MED-main-2', 'RHEM-main', 'Guest-336345802-RP-Aeronautical Decision Making Quiz.pdf', 'IDP-main', 'Landscape_Ecology_UAS_draft_202402-3.docx', 'norwest_mann.ipynb', 'observations-379279.csv', 'Expedia-receipt_Tao.pdf', 'student+performance.zip', '736696875.3gp', 'FY24 Tao Huang GA Contract.pages', '12226-11774-1-PB.pdf', 'Travel_FAQ.pdf', 'Performance Evaluation of Networks in Classification of Biomedical Images_2.docx', 'communication_tao.pdf', 'Tao_AGU_stream_thermal-2.pptx', 'WQW_Tao_20240207.pptx', 'select_predictors.ipynb', 'prism_r-main', 'PRISM_USGS_13341050 - Sheet3.csv', 'Thesis Data MLR.ipynb', 'vrt.R', 'Fassnach_Snow Surface Roughness across Spatio-Temporal Scales.pdf', 'PyTorch_MNIST_Network2_3layer_Sigmoid_CrossEntropy_3.html', 'fishnett_pixels-2', 'RAP_VegCover_2022_2.tif', 'Dissertation_Tao.pdf', 'AUC.png', 'Agenda 4x3.pdf', 'Project2_final_models-4.docx', 's10980-024-01806-2.pdf', 'map.pgw', 'FY24 Tao Huang GA Contract.docx', 'terra.R', '.ipynb_checkpoints', 'Untitled18.ipynb', 'butler_manning.ppt', 'IDP.Rmd', 'NW.png', '1602.jpg', 'PyTorch_MNIST_Network2_3layer_Sigmoid_CrossEntropy_6-2.ipynb', 'data_prep.Rmd', 'Siegel_Daily stream temperature predictions for  streams in the Pacific.pdf', 'RAP_VegCover_2022_2.tif.aux.xml', 'water-1623312-supplementary.pdf', 'IMG_0419.JPG', 'water_2022_code.zip', 'ThermalMetricsyearly_NWIS-2.csv', 'Untitled document-2.pdf', 'Landscape_Ecology_2024-main-6', '1702.jpeg', 'pearly-parka.gpkg-shm', '000012.png', 'neon-discrete-point-clouds.ipynb', 'Screenshot 2024-05-09 at 11.19.07\\u202fAM.png', 'IMG_0395.jpg', 'PRISM_USGS_12413370.csv', 'Screenshot 2024-01-16 at 10.59.32\\u202fPM.png', 'S0048969716319593.txt', 'Estrada‐Villegas_Edaphic factors and initial conditions influence successional trajectories.pdf', 'los_wbs_2022_summary.Rmd', 'samgeo.ipynb', 'scatter.png', 'mann_NORWEST_shp_lat_lon.ipynb', 'Template5_36x44.pptx', 'rasters_ID15Lohse.tar', 'Screenshot 2024-04-27 at 8.47.39\\u202fPM.png', 'MorrisChristoEOANRPEstimatingConservationNeeds.pdf', 'mee313564-sup-0001-supinfo.docx', 'Applestein_s2.0-S1470160X2200406X-main.pdf', 'Screenshot 2024-01-23 at 10.57.05\\u202fPM.png', 'dem_20230816.tif.aux.xml', 'na-cordex-viz-cookbook-main', 'LEAF_2023_10_26_Tao.pptx', '20190605_WBS-main', 'YAW.png', 'download.zip', 'Figures_Landscape_Ecology_ms2023.jpg', 'nonref_ts.png', 'Figures_Landscape_Ecology_ms2023.png', 'export-data-2.csv', 'matlab_R2024a_Prerelease_macOSAppleSilicon.dmg', 'Tao_AGU_stream_thermal.pptx', 'airt.png', 'Leach_primer on stream temperature processes.pdf', 'gages2AttrPlus_ID.csv', 'Resume_Huang_reviewer.pdf', 'Screenshot 2024-04-25 at 10.38.13\\u202fAM.png', 'Reynolds-Creek-Experimental-Watershed-Idaho-USA-with-topographic-gradient-and-stream.png', 'Erosion_model_summary.docx', 'Earth Surf Processes Landf - 2009 - Pierson - Prescribed%E2%80%90fire effects on rill and interrill runoff and erosion in a-2.pdf', 'second_derivative.ipynb', 'images.tar.gz', 'NEON_lidar_tutorial_pre-requisites.pdf', 'HCRI_poster_UAS_2024.pptx-2.pdf', 'streamflow', 'OIT_data_code_Tao_all_area', 'TOPO.pgw', 'feature_ref.png', 'O_1.Rmd', 'Landscape_Ecology_2024-main-7', 'data', 'pearly-parka.gpkg-wal', 'WS.png', 'PosterPresentations.com-36x48-Template-Winston.pptx', 'vitae-main-5', 'Huang - 2023 Profile.jpg', 'vitae-main-2', 'Skype-8.119.0.201.dmg', 'RCEW_2022_fire.png', 'jdt3_4.pgw', 'nwis_daily.ipynb', '2023 Meeting Notes.docx', '20220615_WBS-main-6', 'Zoom-3.pkg', 'Untitled9.ipynb', 'Zoom-2.pkg', 'measurements', 'bad.png', 'ID09_Covino_metadata.txt', 'UAS LE Lit Review Database completed 02012024 SHARED.xlsx', 'lightning_logs', 'front.pdf', '14853240_10154066224980678_8939599732988569577_o.jpg.webp', '212403_Huang.pptx', 'newplot-2.png', '2024_ID_WQ-main-15', '000028.png', 'IMG_0422.JPG', 'improving.csv', 'IMG_0436.jpg', 'clearwater_air_Temp.png', 'Figures_Landscape_Ecology_ms2023-2.pptx', '2024_ID_WQ-main-12', 'Screenshot 2024-02-04 at 10.04.00\\u202fPM.png', 'Landscape Ecology UAS review paper draft .docx', 'LOS_2019_point_frame-main-3', 'output.txt', 'Ch1 Manuscript_Cattau_Lab_Copy.docx', 'PY_DL_MED-main', 'WBS1_LOS1.zip', 'BUFFER_20.prj', 'LOS_2019_point_frame-main-4', 'Landscape_Ecology_UAS_draft_202401-pjo.docx', 'RHEM_Guide_USDA_ARS_NRCS_Handbook_647-2.pdf', 'data_prep_202401.Rmd', 'netCDF4.ipynb', 'Template5_36x48_1.pptx', 'Ch8_F5_PyTorch.png', 'MedMNIST-main', '20220615_WBS-main', 'sn-article-template-2', '14856192_10154072151020678_5299898304580008037_o.jpg.webp', 'vitae-main-3', '1_NIW Summary of Contributions Instructions.pdf', 'Tao Huang-336901321-FAA Practice Exam (UAG_20240502.pdf', 'RAP_VegCover_2019.tif', 'Landscape_Ecology_UAS_draft_20240319_pjo.docx', 'IMG_2507.MOV', 'Rangeland Analysis Platform_JD2024.pdf', 'IMG_7491 2.JPG', 'IMG_0420.JPG', 'Landscape_Ecology_UAS_draft_2023.docx', 'Dindaroğlu_Multispectral UAV and satellite images for digital soil modeling with gradient descent boosting and artificial neural network.pdf', 'vitae-main-4', 'visitor_form_blank_signed.pdf', 'ucr_som_powerpoint_template.pptx', 'back.pdf', 'LOS_2019_point_frame-main-5', 'JDT3_20230814.kmz', 'rcmap.png', 'post_AGU23_stream_T-main', 'IMG_0421.jpg', 'LOS_2019_point_frame-main-2', 'IMG_0409.JPG', 'IMG_0305.MOV', 'vitae-main', '02_pytorch_classification.ipynb', 'xlsx.Rmd', 'q.png', 'Screenshot 2024-01-13 at 6.05.34\\u202fPM.png', 'share', 'Landscape_Ecology_2024-main', 'Event Outline.docx', 'Stanford CS231 PyTorch Tutorial  Guanzhi Wang-MNIST.ipynb', 'Image-ExifTool-12.74.tar', 'Landscape_Ecology_2024-main-20240322', '2024_ID_WQ-main-13', 'Untitled21.ipynb', '20190625_los1_multi_ortho_georef_rcmap_sms_rcmap_xgb_20240228.csv', '2024_ID_WQ-main-14', 'Untitled presentation.jpg', 'Screenshot 2024-04-14 at 4.32.12\\u202fPM.png']\n"
     ]
    }
   ],
   "source": [
    "import os\n",
    "print(os.getcwd())\n",
    "print(os.listdir())\n",
    "import leafmap\n",
    "from samgeo import SamGeo, show_image, download_file, overlay_images, tms_to_geotiff"
   ]
  },
  {
   "cell_type": "markdown",
   "id": "c552a827",
   "metadata": {},
   "source": [
    "Creating interactive web maps."
   ]
  },
  {
   "cell_type": "code",
   "execution_count": 2,
   "id": "7240cb2d",
   "metadata": {},
   "outputs": [
    {
     "data": {
      "application/vnd.jupyter.widget-view+json": {
       "model_id": "2c2373915ff445aeb1e4341dce176b51",
       "version_major": 2,
       "version_minor": 0
      },
      "text/plain": [
       "Map(center=[43.12244960373391, -116.78568227384632], controls=(ZoomControl(options=['position', 'zoom_in_text'…"
      ]
     },
     "execution_count": 2,
     "metadata": {},
     "output_type": "execute_result"
    }
   ],
   "source": [
    "m = leafmap.Map(center=[ 43.12244960373391, -116.78568227384632], zoom=15, height=\"800px\")\n",
    "m.add_basemap(\"SATELLITE\")\n",
    "m"
   ]
  },
  {
   "cell_type": "code",
   "execution_count": 3,
   "id": "c0f9c128",
   "metadata": {},
   "outputs": [
    {
     "name": "stdout",
     "output_type": "stream",
     "text": [
      "[-116.78647620691443, 43.11930149344062, -116.7858539345373, 43.12927778333569]\n"
     ]
    }
   ],
   "source": [
    "north= 43.12927778333569\n",
    "south= 43.11930149344062\n",
    "\n",
    "east = -116.7858539345373\n",
    "west = -116.78647620691443\n",
    "\n",
    "if m.user_roi_bounds() is not None:\n",
    "    bbox = m.user_roi_bounds()\n",
    "else:\n",
    "    bbox = [ west ,  south,  east , north ]\n",
    "\n",
    "print(bbox)"
   ]
  },
  {
   "cell_type": "code",
   "execution_count": 4,
   "id": "8ef13427",
   "metadata": {},
   "outputs": [
    {
     "data": {
      "text/plain": [
       "'JDT3_082023.tif'"
      ]
     },
     "execution_count": 4,
     "metadata": {},
     "output_type": "execute_result"
    }
   ],
   "source": [
    "image = 'JDT3_082023.tif'\n",
    "image"
   ]
  },
  {
   "cell_type": "code",
   "execution_count": 5,
   "id": "95f9b872",
   "metadata": {},
   "outputs": [
    {
     "data": {
      "application/vnd.jupyter.widget-view+json": {
       "model_id": "2c2373915ff445aeb1e4341dce176b51",
       "version_major": 2,
       "version_minor": 0
      },
      "text/plain": [
       "Map(center=[43.12244960373391, -116.78568227384632], controls=(ZoomControl(options=['position', 'zoom_in_text'…"
      ]
     },
     "execution_count": 5,
     "metadata": {},
     "output_type": "execute_result"
    }
   ],
   "source": [
    "m.layers[-1].visible = False\n",
    "m.add_raster(image, layer_name=\"Image\")\n",
    "m"
   ]
  },
  {
   "cell_type": "code",
   "execution_count": 6,
   "id": "31b25b2d",
   "metadata": {},
   "outputs": [
    {
     "name": "stdout",
     "output_type": "stream",
     "text": [
      "Model checkpoint for vit_h not found.\n"
     ]
    },
    {
     "name": "stderr",
     "output_type": "stream",
     "text": [
      "Downloading...\n",
      "From: https://dl.fbaipublicfiles.com/segment_anything/sam_vit_h_4b8939.pth\n",
      "To: /Users/taohuang/.cache/torch/hub/checkpoints/sam_vit_h_4b8939.pth\n",
      "100%|██████████████████████████████████████| 2.56G/2.56G [01:58<00:00, 21.6MB/s]\n"
     ]
    }
   ],
   "source": [
    "sam = SamGeo(\n",
    "    model_type=\"vit_h\",\n",
    "    sam_kwargs=None,\n",
    ")"
   ]
  },
  {
   "cell_type": "code",
   "execution_count": 7,
   "id": "f18fbd9c",
   "metadata": {},
   "outputs": [
    {
     "name": "stderr",
     "output_type": "stream",
     "text": [
      "[ERROR:0@235.771] global loadsave.cpp:433 imread_ imread_('JDT3_082023.tif'): can't read header: OpenCV(4.10.0) /Users/xperience/GHA-Actions-OpenCV/_work/opencv-python/opencv-python/opencv/modules/imgcodecs/src/grfmt_tiff.cpp:146: error: (-2:Unspecified error) in function 'int cv::TiffDecoder::normalizeChannelsNumber(int) const'\n",
      "> Unsupported number of channels:\n",
      ">     'channels >= 1 && channels <= 4'\n",
      "> where\n",
      ">     'channels' is 6\n",
      "\n"
     ]
    },
    {
     "ename": "error",
     "evalue": "OpenCV(4.10.0) /Users/xperience/GHA-Actions-OpenCV/_work/opencv-python/opencv-python/opencv/modules/imgproc/src/color.cpp:196: error: (-215:Assertion failed) !_src.empty() in function 'cvtColor'\n",
     "output_type": "error",
     "traceback": [
      "\u001b[0;31m---------------------------------------------------------------------------\u001b[0m",
      "\u001b[0;31merror\u001b[0m                                     Traceback (most recent call last)",
      "Cell \u001b[0;32mIn[7], line 1\u001b[0m\n\u001b[0;32m----> 1\u001b[0m sam\u001b[38;5;241m.\u001b[39mgenerate(image, output\u001b[38;5;241m=\u001b[39m\u001b[38;5;124m\"\u001b[39m\u001b[38;5;124mmasks.tif\u001b[39m\u001b[38;5;124m\"\u001b[39m, foreground\u001b[38;5;241m=\u001b[39m\u001b[38;5;28;01mTrue\u001b[39;00m, unique\u001b[38;5;241m=\u001b[39m\u001b[38;5;28;01mTrue\u001b[39;00m)\n",
      "File \u001b[0;32m~/anaconda3/lib/python3.11/site-packages/samgeo/samgeo.py:211\u001b[0m, in \u001b[0;36mSamGeo.generate\u001b[0;34m(self, source, output, foreground, batch, batch_sample_size, batch_nodata_threshold, nodata_value, erosion_kernel, mask_multiplier, unique, **kwargs)\u001b[0m\n\u001b[1;32m    197\u001b[0m         \u001b[38;5;28;01mreturn\u001b[39;00m tiff_to_tiff(\n\u001b[1;32m    198\u001b[0m             source,\n\u001b[1;32m    199\u001b[0m             output,\n\u001b[0;32m   (...)\u001b[0m\n\u001b[1;32m    207\u001b[0m             \u001b[38;5;241m*\u001b[39m\u001b[38;5;241m*\u001b[39mkwargs,\n\u001b[1;32m    208\u001b[0m         )\n\u001b[1;32m    210\u001b[0m     image \u001b[38;5;241m=\u001b[39m cv2\u001b[38;5;241m.\u001b[39mimread(source)\n\u001b[0;32m--> 211\u001b[0m     image \u001b[38;5;241m=\u001b[39m cv2\u001b[38;5;241m.\u001b[39mcvtColor(image, cv2\u001b[38;5;241m.\u001b[39mCOLOR_BGR2RGB)\n\u001b[1;32m    212\u001b[0m \u001b[38;5;28;01melif\u001b[39;00m \u001b[38;5;28misinstance\u001b[39m(source, np\u001b[38;5;241m.\u001b[39mndarray):\n\u001b[1;32m    213\u001b[0m     image \u001b[38;5;241m=\u001b[39m source\n",
      "\u001b[0;31merror\u001b[0m: OpenCV(4.10.0) /Users/xperience/GHA-Actions-OpenCV/_work/opencv-python/opencv-python/opencv/modules/imgproc/src/color.cpp:196: error: (-215:Assertion failed) !_src.empty() in function 'cvtColor'\n"
     ]
    }
   ],
   "source": [
    "sam.generate(image, output=\"masks.tif\", foreground=True, unique=True)"
   ]
  },
  {
   "cell_type": "code",
   "execution_count": null,
   "id": "b4f8a460",
   "metadata": {},
   "outputs": [],
   "source": []
  }
 ],
 "metadata": {
  "kernelspec": {
   "display_name": "Python 3 (ipykernel)",
   "language": "python",
   "name": "python3"
  },
  "language_info": {
   "codemirror_mode": {
    "name": "ipython",
    "version": 3
   },
   "file_extension": ".py",
   "mimetype": "text/x-python",
   "name": "python",
   "nbconvert_exporter": "python",
   "pygments_lexer": "ipython3",
   "version": "3.11.4"
  }
 },
 "nbformat": 4,
 "nbformat_minor": 5
}
