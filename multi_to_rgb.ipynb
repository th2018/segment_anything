{
 "cells": [
  {
   "cell_type": "code",
   "execution_count": 2,
   "id": "5c563aee",
   "metadata": {},
   "outputs": [
    {
     "name": "stderr",
     "output_type": "stream",
     "text": [
      "C:\\Users\\taohuang\\Anaconda3\\lib\\site-packages\\numpy\\_distributor_init.py:30: UserWarning: loaded more than 1 DLL from .libs:\n",
      "C:\\Users\\taohuang\\Anaconda3\\lib\\site-packages\\numpy\\.libs\\libopenblas.EL2C6PLE4ZYW3ECEVIV3OXXGRN2NRFM2.gfortran-win_amd64.dll\n",
      "C:\\Users\\taohuang\\Anaconda3\\lib\\site-packages\\numpy\\.libs\\libopenblas64__v0.3.21-gcc_10_3_0.dll\n",
      "  warnings.warn(\"loaded more than 1 DLL from .libs:\"\n"
     ]
    }
   ],
   "source": [
    "import rasterio"
   ]
  },
  {
   "cell_type": "code",
   "execution_count": 6,
   "id": "18af5c0b",
   "metadata": {},
   "outputs": [
    {
     "name": "stdout",
     "output_type": "stream",
     "text": [
      "<class 'rasterio.io.DatasetReader'>\n",
      "<class 'numpy.ndarray'>\n"
     ]
    }
   ],
   "source": [
    "with rasterio.open(r'C:\\Users\\taohuang\\Documents\\Tao\\ARS\\20190625_los1_multi_ortho_georef_pf26_sms.tif') as src:\n",
    "    # Read the first 3 bands\n",
    "    bands_subset = src.read([1, 2, 3]) #index 0?\n",
    "    \n",
    "print(type(src))\n",
    "print(type(bands_subset))\n"
   ]
  },
  {
   "cell_type": "code",
   "execution_count": null,
   "id": "647ab9b8",
   "metadata": {},
   "outputs": [],
   "source": []
  },
  {
   "cell_type": "code",
   "execution_count": null,
   "id": "733c7745",
   "metadata": {},
   "outputs": [],
   "source": [
    "\n",
    "from rasterio.windows import Window\n",
    "\n",
    "# Open the GeoTIFF file\n",
    "with rasterio.open('C:\\Users\\taohuang\\Documents\\Tao\\ARS\\ .tif') as src:\n",
    "    # Read the first 3 bands\n",
    "    bands_subset = src.read([1, 2, 3])\n",
    "\n",
    "    # Get metadata for the subset\n",
    "    metadata = src.meta.copy()\n",
    "    metadata['count'] = 3  # Update band count to 3\n",
    "\n",
    "    # Write the subset to a new GeoTIFF file\n",
    "    with rasterio.open('subsetted_file.tif', 'w', **metadata) as dst:\n",
    "        dst.write(bands_subset)\n",
    "\n",
    "# Confirm the subsetted file\n",
    "with rasterio.open('subsetted_file.tif') as subset_src:\n",
    "    print(\"Subsetted file metadata:\", subset_src.meta)\n"
   ]
  }
 ],
 "metadata": {
  "kernelspec": {
   "display_name": "Python 3 (ipykernel)",
   "language": "python",
   "name": "python3"
  },
  "language_info": {
   "codemirror_mode": {
    "name": "ipython",
    "version": 3
   },
   "file_extension": ".py",
   "mimetype": "text/x-python",
   "name": "python",
   "nbconvert_exporter": "python",
   "pygments_lexer": "ipython3",
   "version": "3.8.12"
  }
 },
 "nbformat": 4,
 "nbformat_minor": 5
}
