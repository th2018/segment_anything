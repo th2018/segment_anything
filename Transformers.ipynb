{
 "cells": [
  {
   "cell_type": "markdown",
   "id": "1e9cd225-c314-452e-8c2b-fbe3aa0816f8",
   "metadata": {},
   "source": [
    "https://github.com/xbeat/Machine-Learning/blob/main/Exploring%20Self-Attention%20in%20Transformers%20with%20Python.md#"
   ]
  },
  {
   "cell_type": "markdown",
   "id": "4f9b8a1e-d991-4823-a40c-94413d07bbc7",
   "metadata": {},
   "source": [
    "Self-attention is a key mechanism in transformer models that allows the model to weigh the importance of different parts of the input when processing each element. "
   ]
  },
  {
   "cell_type": "code",
   "execution_count": 1,
   "id": "3b203991-b91a-4bd4-8dc5-8d72707bb812",
   "metadata": {},
   "outputs": [],
   "source": [
    "import numpy as np\n",
    "\n",
    "def self_attention(query, key, value):\n",
    "    # Compute attention scores\n",
    "    scores = np.dot(query, key.T) / np.sqrt(key.shape[1])\n",
    "    print(\"scores\",scores)\n",
    "    \n",
    "    # Apply softmax to get attention weights\n",
    "    weights = np.exp(scores) / np.sum(np.exp(scores), axis=1, keepdims=True)\n",
    "    print(\"weights:\",weights)\n",
    "    \n",
    "    # Compute weighted sum of values\n",
    "    output = np.dot(weights, value)\n",
    "    print(\"output\", output)\n",
    "    \n",
    "    return output"
   ]
  },
  {
   "cell_type": "code",
   "execution_count": 2,
   "id": "18e7d56e-2d04-4f67-9bac-7d4d07dcf013",
   "metadata": {},
   "outputs": [
    {
     "name": "stdout",
     "output_type": "stream",
     "text": [
      "scores [[0.57735027 1.15470054 0.57735027]\n",
      " [0.57735027 0.57735027 1.15470054]]\n",
      "weights: [[0.26445846 0.47108308 0.26445846]\n",
      " [0.26445846 0.26445846 0.47108308]]\n",
      "output [[0.52891692 0.73554154]\n",
      " [0.73554154 0.73554154]]\n",
      "Self-attention output:\n",
      "[[0.52891692 0.73554154]\n",
      " [0.73554154 0.73554154]]\n"
     ]
    }
   ],
   "source": [
    "# Example usage\n",
    "query = np.array([[1, 0, 1], [0, 1, 1]])\n",
    "key = np.array([[1, 1, 0], [1, 0, 1], [0, 1, 1]])\n",
    "value = np.array([[1, 0], [0, 1], [1, 1]])\n",
    "\n",
    "result = self_attention(query, key, value)\n",
    "print(\"Self-attention output:\")\n",
    "print(result)"
   ]
  }
 ],
 "metadata": {
  "kernelspec": {
   "display_name": "Python 3 (ipykernel)",
   "language": "python",
   "name": "python3"
  },
  "language_info": {
   "codemirror_mode": {
    "name": "ipython",
    "version": 3
   },
   "file_extension": ".py",
   "mimetype": "text/x-python",
   "name": "python",
   "nbconvert_exporter": "python",
   "pygments_lexer": "ipython3",
   "version": "3.12.4"
  }
 },
 "nbformat": 4,
 "nbformat_minor": 5
}
