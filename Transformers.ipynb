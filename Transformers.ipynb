{
 "cells": [
  {
   "cell_type": "markdown",
   "id": "1b0e1ab2-555c-4a4a-8680-b03ef2068892",
   "metadata": {},
   "source": [
    "https://github.com/xbeat/Machine-Learning/blob/main/Exploring%20Self-Attention%20in%20Transformers%20with%20Python.md#"
   ]
  },
  {
   "cell_type": "code",
   "execution_count": 1,
   "id": "c0327aba-496a-4b6d-9dc9-4ec6e025ad76",
   "metadata": {},
   "outputs": [
    {
     "name": "stdout",
     "output_type": "stream",
     "text": [
      "Self-attention output:\n",
      "[[0.52891692 0.73554154]\n",
      " [0.73554154 0.73554154]]\n"
     ]
    }
   ],
   "source": [
    "import numpy as np\n",
    "\n",
    "def self_attention(query, key, value):\n",
    "    # Compute attention scores\n",
    "    scores = np.dot(query, key.T) / np.sqrt(key.shape[1])\n",
    "    \n",
    "    # Apply softmax to get attention weights\n",
    "    weights = np.exp(scores) / np.sum(np.exp(scores), axis=1, keepdims=True)\n",
    "    \n",
    "    # Compute weighted sum of values\n",
    "    output = np.dot(weights, value)\n",
    "    \n",
    "    return output\n",
    "\n",
    "# Example usage\n",
    "query = np.array([[1, 0, 1], [0, 1, 1]])\n",
    "key = np.array([[1, 1, 0], [1, 0, 1], [0, 1, 1]])\n",
    "value = np.array([[1, 0], [0, 1], [1, 1]])\n",
    "\n",
    "result = self_attention(query, key, value)\n",
    "print(\"Self-attention output:\")\n",
    "print(result)"
   ]
  }
 ],
 "metadata": {
  "kernelspec": {
   "display_name": "Python 3 (ipykernel)",
   "language": "python",
   "name": "python3"
  },
  "language_info": {
   "codemirror_mode": {
    "name": "ipython",
    "version": 3
   },
   "file_extension": ".py",
   "mimetype": "text/x-python",
   "name": "python",
   "nbconvert_exporter": "python",
   "pygments_lexer": "ipython3",
   "version": "3.12.4"
  }
 },
 "nbformat": 4,
 "nbformat_minor": 5
}
